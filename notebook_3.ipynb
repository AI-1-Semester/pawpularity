{
 "cells": [
  {
   "cell_type": "code",
   "execution_count": 71,
   "metadata": {},
   "outputs": [],
   "source": [
    "## Uge 10 - Opgave 1\n",
    "# Brug regression til at finde pawpularity-scoren for alle kæledyrene\n",
    "# og test med forskellige inputs, om modellen regner rigtigt.\n",
    "\n",
    "## notebook_3 er andet tredje på at lave regression på pawpularity-scoren, med nye inputs\n",
    "\n",
    "import pandas as pd\n",
    "from sklearn.linear_model import LinearRegression\n",
    "from sklearn.model_selection import cross_validate\n",
    "from sklearn.linear_model import LogisticRegression\n",
    "from sklearn.model_selection import cross_validate, KFold\n",
    "from sklearn.ensemble import RandomForestClassifier\n",
    "from sklearn.svm import SVC\n",
    "\n",
    "\n",
    "train_data = pd.read_csv(\"./data/train/train.csv\")\n",
    "test_data = pd.read_csv(\"./data/test/test.csv\")\n",
    "sample_submission = pd.read_csv(\"./data/test/sample_submission.csv\")\n",
    "\n",
    "# print(train_data.head())"
   ]
  },
  {
   "cell_type": "code",
   "execution_count": 72,
   "metadata": {},
   "outputs": [
    {
     "name": "stdout",
     "output_type": "stream",
     "text": [
      "\n",
      "Logistic Regression R^2 scores: [-0.26816859 -1.0342961  -0.29369719 -0.19819155 -0.2309379 ]\n",
      "\n",
      "Logistic Regression Mean Squared Error scores: [-560.57589511 -859.03378719 -522.31079717 -507.01261352 -527.29717457]\n",
      "\n",
      "Logistic Regression Mean Absolute Error scores: [-16.18255169 -19.93847705 -15.64883956 -15.27598385 -15.70181635]\n",
      "\n",
      "Linear Regression R^2 scores: [ 0.002148   -0.00329095 -0.00419659  0.00086155  0.00135547]\n",
      "\n",
      "Linear Regression Mean Squared Error scores: [-441.08628798 -423.66537496 -405.4292811  -422.78365237 -427.78960412]\n",
      "\n",
      "Linear Regression Mean Absolute Error scores: [-15.69692345 -15.49739332 -15.22761056 -15.37058238 -15.32535215]\n",
      "\n",
      "Random Forest R^2 scores: [-0.87402083 -0.73478908 -1.00014318 -0.39604418 -0.60866315]\n",
      "\n",
      "Random Forest Mean Squared Error scores: [-828.38426626 -732.55925366 -807.52774975 -590.73360242 -689.10343088]\n",
      "\n",
      "Random Forest Mean Absolute Error scores: [-19.55219365 -18.56631367 -19.35620585 -16.6074672  -18.03178607]\n",
      "\n",
      "SVM R^2 scores: [-0.21975987 -0.80312544 -0.28650901 -0.19453819 -0.27291523]\n",
      "\n",
      "SVM Mean Squared Error scores: [-539.17750883 -761.41603631 -519.4086781  -505.4667003  -545.2790111 ]\n",
      "\n",
      "SVM Mean Absolute Error scores: [-15.85930408 -18.66868381 -15.62159435 -15.28304743 -15.92583249]\n"
     ]
    }
   ],
   "source": [
    "# Opgave 4 Cross validation\n",
    "# model comparrison (5 folds - is testet 5 times)\n",
    "\n",
    "# Prepare the data\n",
    "X = train_data.drop(['Id', 'Pawpularity'], axis=1)\n",
    "y = train_data['Pawpularity']\n",
    "X_test = test_data.drop(['Id'], axis=1)\n",
    "X_test2 = test_data.drop(['Id'], axis=1)\n",
    "\n",
    "# Create a Linear Regression model\n",
    "models = [\n",
    "    ('Logistic Regression', LogisticRegression(max_iter=200)),\n",
    "    ('Linear Regression', LinearRegression()),\n",
    "    ('Random Forest', RandomForestClassifier(n_estimators=100)),\n",
    "    ('SVM', SVC())\n",
    "]\n",
    "\n",
    "# Define a K-Fold cross-validation splitter\n",
    "cv = KFold(n_splits=5, shuffle=True, random_state=42)\n",
    "\n",
    "# Define multiple scoring metrics\n",
    "scoring = ['r2', 'neg_mean_squared_error', 'neg_mean_absolute_error']\n",
    "\n",
    "# Iterate over models and perform cross-validation\n",
    "for name, model in models:\n",
    "    results = cross_validate(model, X, y, cv=cv, scoring=scoring)\n",
    "    # Print the results\n",
    "    print(f\"\\n{name} R^2 scores:\", results['test_r2'])\n",
    "    print(f\"\\n{name} Mean Squared Error scores:\", results['test_neg_mean_squared_error'])\n",
    "    print(f\"\\n{name} Mean Absolute Error scores:\", results['test_neg_mean_absolute_error'])\n"
   ]
  },
  {
   "cell_type": "markdown",
   "metadata": {},
   "source": []
  },
  {
   "cell_type": "code",
   "execution_count": null,
   "metadata": {},
   "outputs": [],
   "source": [
    "# Opgave 3 find humans with supervised learning\n",
    "\n",
    "##  Transform the data\n",
    "\n",
    "# Drop the columns not to be used\n",
    "correlated_data = train_data.drop(columns=['PassengerId', 'Ticket', 'Name', 'Age', 'SibSp', 'Parch' ], axis=1)"
   ]
  }
 ],
 "metadata": {
  "kernelspec": {
   "display_name": "pawpularityVenv",
   "language": "python",
   "name": "python3"
  },
  "language_info": {
   "codemirror_mode": {
    "name": "ipython",
    "version": 3
   },
   "file_extension": ".py",
   "mimetype": "text/x-python",
   "name": "python",
   "nbconvert_exporter": "python",
   "pygments_lexer": "ipython3",
   "version": "3.12.1"
  }
 },
 "nbformat": 4,
 "nbformat_minor": 2
}
